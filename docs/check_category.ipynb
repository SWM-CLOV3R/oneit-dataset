{
 "cells": [
  {
   "cell_type": "code",
   "execution_count": 1,
   "metadata": {},
   "outputs": [
    {
     "ename": "ModuleNotFoundError",
     "evalue": "No module named 'preprocess'",
     "output_type": "error",
     "traceback": [
      "\u001b[0;31m---------------------------------------------------------------------------\u001b[0m",
      "\u001b[0;31mModuleNotFoundError\u001b[0m                       Traceback (most recent call last)",
      "Cell \u001b[0;32mIn[1], line 1\u001b[0m\n\u001b[0;32m----> 1\u001b[0m \u001b[38;5;28;01mfrom\u001b[39;00m \u001b[38;5;21;01mcrawling_func\u001b[39;00m\u001b[38;5;21;01m.\u001b[39;00m\u001b[38;5;21;01mnormalized_category\u001b[39;00m \u001b[38;5;28;01mimport\u001b[39;00m search_category\n\u001b[1;32m      2\u001b[0m \u001b[38;5;28;01mimport\u001b[39;00m \u001b[38;5;21;01mpandas\u001b[39;00m \u001b[38;5;28;01mas\u001b[39;00m \u001b[38;5;21;01mpd\u001b[39;00m\n\u001b[1;32m      3\u001b[0m \u001b[38;5;28;01mimport\u001b[39;00m \u001b[38;5;21;01mre\u001b[39;00m\n",
      "File \u001b[0;32m~/Documents/SWMaestro/oneit-dataset/crawling_func/__init__.py:1\u001b[0m\n\u001b[0;32m----> 1\u001b[0m \u001b[38;5;28;01mfrom\u001b[39;00m \u001b[38;5;21;01m.\u001b[39;00m\u001b[38;5;21;01myoutube_crawling\u001b[39;00m \u001b[38;5;28;01mimport\u001b[39;00m get_video_by_keys, get_product_urls\n\u001b[1;32m      2\u001b[0m \u001b[38;5;28;01mfrom\u001b[39;00m \u001b[38;5;21;01m.\u001b[39;00m\u001b[38;5;21;01mshop29cm_crawling\u001b[39;00m \u001b[38;5;28;01mimport\u001b[39;00m get_29cm_product_info, get_29cm_product_reviews\n\u001b[1;32m      3\u001b[0m \u001b[38;5;28;01mfrom\u001b[39;00m \u001b[38;5;21;01m.\u001b[39;00m\u001b[38;5;21;01mshopkko_crawling\u001b[39;00m \u001b[38;5;28;01mimport\u001b[39;00m get_kko_product_info, get_kko_product_reviews\n",
      "File \u001b[0;32m~/Documents/SWMaestro/oneit-dataset/crawling_func/youtube_crawling.py:9\u001b[0m\n\u001b[1;32m      5\u001b[0m \u001b[38;5;28;01mfrom\u001b[39;00m \u001b[38;5;21;01mgoogleapiclient\u001b[39;00m\u001b[38;5;21;01m.\u001b[39;00m\u001b[38;5;21;01merrors\u001b[39;00m \u001b[38;5;28;01mimport\u001b[39;00m HttpError\n\u001b[1;32m      7\u001b[0m \u001b[38;5;28;01mfrom\u001b[39;00m \u001b[38;5;21;01menv\u001b[39;00m \u001b[38;5;28;01mimport\u001b[39;00m YOUTUBE_API\n\u001b[0;32m----> 9\u001b[0m \u001b[38;5;28;01mfrom\u001b[39;00m \u001b[38;5;21;01mpreprocess\u001b[39;00m \u001b[38;5;28;01mimport\u001b[39;00m extract_urls, check_url, get_final_url\n\u001b[1;32m     11\u001b[0m \u001b[38;5;66;03m# 영상에서 정보 뽑아오는 함수\u001b[39;00m\n\u001b[1;32m     12\u001b[0m \u001b[38;5;66;03m# 스크립트 정보 제외\u001b[39;00m\n\u001b[1;32m     13\u001b[0m \u001b[38;5;28;01mdef\u001b[39;00m \u001b[38;5;21mget_video\u001b[39m(searchQ, maxCount):\n",
      "\u001b[0;31mModuleNotFoundError\u001b[0m: No module named 'preprocess'"
     ]
    }
   ],
   "source": [
    "from crawling_func.normalized_category import search_category\n",
    "import pandas as pd\n",
    "import re"
   ]
  },
  {
   "cell_type": "markdown",
   "metadata": {},
   "source": [
    "# Category 받아오기"
   ]
  },
  {
   "cell_type": "code",
   "execution_count": 2,
   "metadata": {},
   "outputs": [],
   "source": [
    "products = pd.read_csv(\"./productInfo/product(3).csv\", index_col=0)"
   ]
  },
  {
   "cell_type": "code",
   "execution_count": null,
   "metadata": {},
   "outputs": [],
   "source": [
    "products[\"norm_category\"] = products[\"product_name\"].apply(search_category)\n",
    "# products.to_csv(\"./productInfo/products(4).csv\")\n",
    "\n"
   ]
  },
  {
   "cell_type": "markdown",
   "metadata": {},
   "source": [
    "# Category 종류 확인"
   ]
  },
  {
   "cell_type": "code",
   "execution_count": 3,
   "metadata": {},
   "outputs": [],
   "source": [
    "category = pd.read_csv(\"./productInfo/products(4).csv\", index_col=0).norm_category"
   ]
  },
  {
   "cell_type": "code",
   "execution_count": 7,
   "metadata": {},
   "outputs": [
    {
     "data": {
      "text/plain": [
       "['화장품/미용', '클렌징', '클렌징폼', '']"
      ]
     },
     "execution_count": 7,
     "metadata": {},
     "output_type": "execute_result"
    }
   ],
   "source": [
    "# for cat in category:print(cat)\n",
    "\"화장품/미용 > 클렌징 > 클렌징폼 > \".split(' > ')"
   ]
  },
  {
   "cell_type": "code",
   "execution_count": 12,
   "metadata": {},
   "outputs": [],
   "source": [
    "cat1 = []\n",
    "cat2 = []\n",
    "cat3 = []\n",
    "cat4 = []\n",
    "for cat in category:\n",
    "    try:\n",
    "        splited = cat.split(\" > \")  \n",
    "    except:\n",
    "        cat1.append(None)\n",
    "        cat2.append(None)\n",
    "        cat3.append(None)\n",
    "        cat4.append(None)\n",
    "        continue\n",
    "    if len(splited) > 4: print(\"check this : cat\")\n",
    "\n",
    "    try:\n",
    "        cat1.append(splited[0])\n",
    "    except:\n",
    "        cat1.append(None)\n",
    "    try:\n",
    "        cat2.append(splited[1])\n",
    "    except:\n",
    "        cat2.append(None)\n",
    "    try:\n",
    "        cat3.append(splited[2])\n",
    "    except:\n",
    "        cat3.append(None)\n",
    "    try:\n",
    "        cat4.append(splited[3])\n",
    "    except:\n",
    "        cat4.append(None)\n",
    "        "
   ]
  },
  {
   "cell_type": "code",
   "execution_count": 13,
   "metadata": {},
   "outputs": [],
   "source": [
    "categoryDF = pd.DataFrame({\"대분류\":cat1,\"중분류\":cat2,\"소분류\":cat3,\"세분류\":cat4})\n"
   ]
  },
  {
   "cell_type": "code",
   "execution_count": 15,
   "metadata": {},
   "outputs": [
    {
     "data": {
      "text/plain": [
       "array(['화장품/미용', '디지털/가전', '패션의류', '식품', '생활/건강', '가구/인테리어', '출산/육아',\n",
       "       '패션잡화', None], dtype=object)"
      ]
     },
     "execution_count": 15,
     "metadata": {},
     "output_type": "execute_result"
    }
   ],
   "source": [
    "categoryDF[\"대분류\"].unique()"
   ]
  },
  {
   "cell_type": "code",
   "execution_count": 16,
   "metadata": {},
   "outputs": [
    {
     "data": {
      "text/plain": [
       "array(['클렌징', '카메라/캠코더용품', '여성의류', '바디케어', '과자/베이커리', '생활용품', '홈데코', '음료',\n",
       "       '욕실용품', '문구/사무용품', '발건강용품', '공구', '인형', '인테리어소품', '수집품', '색조메이크업',\n",
       "       '모자', '여성가방', '향수', '식용유/오일', '스킨케어', None, '주방용품', '잼/시럽',\n",
       "       '유아동의류', '헤어케어', '카페트/러그', '생활가전', '휴대폰액세서리', '건강식품', '자동차용품',\n",
       "       '장갑', '침구단품', '지갑', '여성언더웨어/잠옷', '조미료'], dtype=object)"
      ]
     },
     "execution_count": 16,
     "metadata": {},
     "output_type": "execute_result"
    }
   ],
   "source": [
    "categoryDF[\"중분류\"].unique()"
   ]
  },
  {
   "cell_type": "code",
   "execution_count": 20,
   "metadata": {},
   "outputs": [
    {
     "data": {
      "text/plain": [
       "array(['클렌징폼', '필름카메라', '원피스', '바디오일', '초콜릿', '화장지', '쿠션/방석', '젤리',\n",
       "       '주스/과즙음료', '샤워/목욕용품', '이벤트/파티용품', '다리/발마사지기', '포장용품', '클렌징비누',\n",
       "       '봉제인형', '아로마/캔들용품', '입욕제', '바디클렌저', '모형/프라모델/피규어', '필기도구', '립케어',\n",
       "       '티셔츠', '야구모자', '숄더백', '여성향수', '바디스크럽', '생활선물세트', '올리브유', '핸드케어',\n",
       "       '미스트', '바디케어세트', None, '식기', '딸기잼', '잔/컵', '블라우스/셔츠', '헤어미스트',\n",
       "       '발매트', '구강청정기', '휴대폰충전기', '보관/밀폐용기', '꿀', '차류', '파우치', '공기청정용품',\n",
       "       '여성장갑', '제습/방향/탈취', '스탠드', '액자', '베개', '카드/명함지갑', '잠옷/홈웨어', '크로스백',\n",
       "       '소금'], dtype=object)"
      ]
     },
     "execution_count": 20,
     "metadata": {},
     "output_type": "execute_result"
    }
   ],
   "source": [
    "categoryDF[\"소분류\"].unique()"
   ]
  },
  {
   "cell_type": "code",
   "execution_count": 18,
   "metadata": {},
   "outputs": [
    {
     "data": {
      "text/plain": [
       "array(['', '일회용카메라', '화장지케이스', '일반쿠션', '기능성방석', '바디필로우', '레몬주스', '샤워가운',\n",
       "       '데코용품', '선물박스', '초/향초', '피규어', '볼펜', '일반캡', '풍선/풍선용품', None, '볼',\n",
       "       '머그', '유리컵', '칫솔살균기', '충전기', '도시락통/찬합', '기타차', '차량용방향제',\n",
       "       '새집증후군/진드기', '단스탠드', '퍼즐/그림/사진액자', '베개커버'], dtype=object)"
      ]
     },
     "execution_count": 18,
     "metadata": {},
     "output_type": "execute_result"
    }
   ],
   "source": [
    "categoryDF[\"세분류\"].unique()"
   ]
  },
  {
   "cell_type": "code",
   "execution_count": 28,
   "metadata": {},
   "outputs": [
    {
     "data": {
      "text/html": [
       "<div>\n",
       "<style scoped>\n",
       "    .dataframe tbody tr th:only-of-type {\n",
       "        vertical-align: middle;\n",
       "    }\n",
       "\n",
       "    .dataframe tbody tr th {\n",
       "        vertical-align: top;\n",
       "    }\n",
       "\n",
       "    .dataframe thead th {\n",
       "        text-align: right;\n",
       "    }\n",
       "</style>\n",
       "<table border=\"1\" class=\"dataframe\">\n",
       "  <thead>\n",
       "    <tr style=\"text-align: right;\">\n",
       "      <th></th>\n",
       "      <th></th>\n",
       "      <th></th>\n",
       "      <th></th>\n",
       "    </tr>\n",
       "    <tr>\n",
       "      <th>대분류</th>\n",
       "      <th>중분류</th>\n",
       "      <th>소분류</th>\n",
       "      <th>세분류</th>\n",
       "    </tr>\n",
       "  </thead>\n",
       "  <tbody>\n",
       "    <tr>\n",
       "      <th rowspan=\"8\" valign=\"top\">가구/인테리어</th>\n",
       "      <th rowspan=\"3\" valign=\"top\">인테리어소품</th>\n",
       "      <th>스탠드</th>\n",
       "      <th>단스탠드</th>\n",
       "    </tr>\n",
       "    <tr>\n",
       "      <th>아로마/캔들용품</th>\n",
       "      <th>초/향초</th>\n",
       "    </tr>\n",
       "    <tr>\n",
       "      <th>액자</th>\n",
       "      <th>퍼즐/그림/사진액자</th>\n",
       "    </tr>\n",
       "    <tr>\n",
       "      <th>침구단품</th>\n",
       "      <th>베개</th>\n",
       "      <th>베개커버</th>\n",
       "    </tr>\n",
       "    <tr>\n",
       "      <th>카페트/러그</th>\n",
       "      <th>발매트</th>\n",
       "      <th></th>\n",
       "    </tr>\n",
       "    <tr>\n",
       "      <th rowspan=\"3\" valign=\"top\">홈데코</th>\n",
       "      <th rowspan=\"3\" valign=\"top\">쿠션/방석</th>\n",
       "      <th>기능성방석</th>\n",
       "    </tr>\n",
       "    <tr>\n",
       "      <th>바디필로우</th>\n",
       "    </tr>\n",
       "    <tr>\n",
       "      <th>일반쿠션</th>\n",
       "    </tr>\n",
       "    <tr>\n",
       "      <th rowspan=\"3\" valign=\"top\">디지털/가전</th>\n",
       "      <th>생활가전</th>\n",
       "      <th>구강청정기</th>\n",
       "      <th>칫솔살균기</th>\n",
       "    </tr>\n",
       "    <tr>\n",
       "      <th>카메라/캠코더용품</th>\n",
       "      <th>필름카메라</th>\n",
       "      <th>일회용카메라</th>\n",
       "    </tr>\n",
       "    <tr>\n",
       "      <th>휴대폰액세서리</th>\n",
       "      <th>휴대폰충전기</th>\n",
       "      <th>충전기</th>\n",
       "    </tr>\n",
       "    <tr>\n",
       "      <th rowspan=\"15\" valign=\"top\">생활/건강</th>\n",
       "      <th>공구</th>\n",
       "      <th>포장용품</th>\n",
       "      <th>선물박스</th>\n",
       "    </tr>\n",
       "    <tr>\n",
       "      <th rowspan=\"3\" valign=\"top\">문구/사무용품</th>\n",
       "      <th rowspan=\"2\" valign=\"top\">이벤트/파티용품</th>\n",
       "      <th>데코용품</th>\n",
       "    </tr>\n",
       "    <tr>\n",
       "      <th>풍선/풍선용품</th>\n",
       "    </tr>\n",
       "    <tr>\n",
       "      <th>필기도구</th>\n",
       "      <th>볼펜</th>\n",
       "    </tr>\n",
       "    <tr>\n",
       "      <th>발건강용품</th>\n",
       "      <th>다리/발마사지기</th>\n",
       "      <th></th>\n",
       "    </tr>\n",
       "    <tr>\n",
       "      <th rowspan=\"3\" valign=\"top\">생활용품</th>\n",
       "      <th>생활선물세트</th>\n",
       "      <th></th>\n",
       "    </tr>\n",
       "    <tr>\n",
       "      <th>제습/방향/탈취</th>\n",
       "      <th>새집증후군/진드기</th>\n",
       "    </tr>\n",
       "    <tr>\n",
       "      <th>화장지</th>\n",
       "      <th>화장지케이스</th>\n",
       "    </tr>\n",
       "    <tr>\n",
       "      <th>수집품</th>\n",
       "      <th>모형/프라모델/피규어</th>\n",
       "      <th>피규어</th>\n",
       "    </tr>\n",
       "    <tr>\n",
       "      <th>욕실용품</th>\n",
       "      <th>샤워/목욕용품</th>\n",
       "      <th>샤워가운</th>\n",
       "    </tr>\n",
       "    <tr>\n",
       "      <th>자동차용품</th>\n",
       "      <th>공기청정용품</th>\n",
       "      <th>차량용방향제</th>\n",
       "    </tr>\n",
       "    <tr>\n",
       "      <th rowspan=\"4\" valign=\"top\">주방용품</th>\n",
       "      <th>보관/밀폐용기</th>\n",
       "      <th>도시락통/찬합</th>\n",
       "    </tr>\n",
       "    <tr>\n",
       "      <th>식기</th>\n",
       "      <th>볼</th>\n",
       "    </tr>\n",
       "    <tr>\n",
       "      <th rowspan=\"2\" valign=\"top\">잔/컵</th>\n",
       "      <th>머그</th>\n",
       "    </tr>\n",
       "    <tr>\n",
       "      <th>유리컵</th>\n",
       "    </tr>\n",
       "    <tr>\n",
       "      <th rowspan=\"8\" valign=\"top\">식품</th>\n",
       "      <th>건강식품</th>\n",
       "      <th>꿀</th>\n",
       "      <th></th>\n",
       "    </tr>\n",
       "    <tr>\n",
       "      <th rowspan=\"2\" valign=\"top\">과자/베이커리</th>\n",
       "      <th>젤리</th>\n",
       "      <th></th>\n",
       "    </tr>\n",
       "    <tr>\n",
       "      <th>초콜릿</th>\n",
       "      <th></th>\n",
       "    </tr>\n",
       "    <tr>\n",
       "      <th>식용유/오일</th>\n",
       "      <th>올리브유</th>\n",
       "      <th></th>\n",
       "    </tr>\n",
       "    <tr>\n",
       "      <th rowspan=\"2\" valign=\"top\">음료</th>\n",
       "      <th>주스/과즙음료</th>\n",
       "      <th>레몬주스</th>\n",
       "    </tr>\n",
       "    <tr>\n",
       "      <th>차류</th>\n",
       "      <th>기타차</th>\n",
       "    </tr>\n",
       "    <tr>\n",
       "      <th>잼/시럽</th>\n",
       "      <th>딸기잼</th>\n",
       "      <th></th>\n",
       "    </tr>\n",
       "    <tr>\n",
       "      <th>조미료</th>\n",
       "      <th>소금</th>\n",
       "      <th></th>\n",
       "    </tr>\n",
       "    <tr>\n",
       "      <th rowspan=\"2\" valign=\"top\">출산/육아</th>\n",
       "      <th>유아동의류</th>\n",
       "      <th>티셔츠</th>\n",
       "      <th></th>\n",
       "    </tr>\n",
       "    <tr>\n",
       "      <th>인형</th>\n",
       "      <th>봉제인형</th>\n",
       "      <th></th>\n",
       "    </tr>\n",
       "    <tr>\n",
       "      <th rowspan=\"4\" valign=\"top\">패션의류</th>\n",
       "      <th>여성언더웨어/잠옷</th>\n",
       "      <th>잠옷/홈웨어</th>\n",
       "      <th></th>\n",
       "    </tr>\n",
       "    <tr>\n",
       "      <th rowspan=\"3\" valign=\"top\">여성의류</th>\n",
       "      <th>블라우스/셔츠</th>\n",
       "      <th></th>\n",
       "    </tr>\n",
       "    <tr>\n",
       "      <th>원피스</th>\n",
       "      <th></th>\n",
       "    </tr>\n",
       "    <tr>\n",
       "      <th>티셔츠</th>\n",
       "      <th></th>\n",
       "    </tr>\n",
       "    <tr>\n",
       "      <th rowspan=\"6\" valign=\"top\">패션잡화</th>\n",
       "      <th>모자</th>\n",
       "      <th>야구모자</th>\n",
       "      <th>일반캡</th>\n",
       "    </tr>\n",
       "    <tr>\n",
       "      <th rowspan=\"3\" valign=\"top\">여성가방</th>\n",
       "      <th>숄더백</th>\n",
       "      <th></th>\n",
       "    </tr>\n",
       "    <tr>\n",
       "      <th>크로스백</th>\n",
       "      <th></th>\n",
       "    </tr>\n",
       "    <tr>\n",
       "      <th>파우치</th>\n",
       "      <th></th>\n",
       "    </tr>\n",
       "    <tr>\n",
       "      <th>장갑</th>\n",
       "      <th>여성장갑</th>\n",
       "      <th></th>\n",
       "    </tr>\n",
       "    <tr>\n",
       "      <th>지갑</th>\n",
       "      <th>카드/명함지갑</th>\n",
       "      <th></th>\n",
       "    </tr>\n",
       "    <tr>\n",
       "      <th rowspan=\"12\" valign=\"top\">화장품/미용</th>\n",
       "      <th rowspan=\"6\" valign=\"top\">바디케어</th>\n",
       "      <th>바디스크럽</th>\n",
       "      <th></th>\n",
       "    </tr>\n",
       "    <tr>\n",
       "      <th>바디오일</th>\n",
       "      <th></th>\n",
       "    </tr>\n",
       "    <tr>\n",
       "      <th>바디케어세트</th>\n",
       "      <th></th>\n",
       "    </tr>\n",
       "    <tr>\n",
       "      <th>바디클렌저</th>\n",
       "      <th></th>\n",
       "    </tr>\n",
       "    <tr>\n",
       "      <th>입욕제</th>\n",
       "      <th></th>\n",
       "    </tr>\n",
       "    <tr>\n",
       "      <th>핸드케어</th>\n",
       "      <th></th>\n",
       "    </tr>\n",
       "    <tr>\n",
       "      <th>색조메이크업</th>\n",
       "      <th>립케어</th>\n",
       "      <th></th>\n",
       "    </tr>\n",
       "    <tr>\n",
       "      <th>스킨케어</th>\n",
       "      <th>미스트</th>\n",
       "      <th></th>\n",
       "    </tr>\n",
       "    <tr>\n",
       "      <th rowspan=\"2\" valign=\"top\">클렌징</th>\n",
       "      <th>클렌징비누</th>\n",
       "      <th></th>\n",
       "    </tr>\n",
       "    <tr>\n",
       "      <th>클렌징폼</th>\n",
       "      <th></th>\n",
       "    </tr>\n",
       "    <tr>\n",
       "      <th>향수</th>\n",
       "      <th>여성향수</th>\n",
       "      <th></th>\n",
       "    </tr>\n",
       "    <tr>\n",
       "      <th>헤어케어</th>\n",
       "      <th>헤어미스트</th>\n",
       "      <th></th>\n",
       "    </tr>\n",
       "  </tbody>\n",
       "</table>\n",
       "</div>"
      ],
      "text/plain": [
       "Empty DataFrame\n",
       "Columns: []\n",
       "Index: [(가구/인테리어, 인테리어소품, 스탠드, 단스탠드), (가구/인테리어, 인테리어소품, 아로마/캔들용품, 초/향초), (가구/인테리어, 인테리어소품, 액자, 퍼즐/그림/사진액자), (가구/인테리어, 침구단품, 베개, 베개커버), (가구/인테리어, 카페트/러그, 발매트, ), (가구/인테리어, 홈데코, 쿠션/방석, 기능성방석), (가구/인테리어, 홈데코, 쿠션/방석, 바디필로우), (가구/인테리어, 홈데코, 쿠션/방석, 일반쿠션), (디지털/가전, 생활가전, 구강청정기, 칫솔살균기), (디지털/가전, 카메라/캠코더용품, 필름카메라, 일회용카메라), (디지털/가전, 휴대폰액세서리, 휴대폰충전기, 충전기), (생활/건강, 공구, 포장용품, 선물박스), (생활/건강, 문구/사무용품, 이벤트/파티용품, 데코용품), (생활/건강, 문구/사무용품, 이벤트/파티용품, 풍선/풍선용품), (생활/건강, 문구/사무용품, 필기도구, 볼펜), (생활/건강, 발건강용품, 다리/발마사지기, ), (생활/건강, 생활용품, 생활선물세트, ), (생활/건강, 생활용품, 제습/방향/탈취, 새집증후군/진드기), (생활/건강, 생활용품, 화장지, 화장지케이스), (생활/건강, 수집품, 모형/프라모델/피규어, 피규어), (생활/건강, 욕실용품, 샤워/목욕용품, 샤워가운), (생활/건강, 자동차용품, 공기청정용품, 차량용방향제), (생활/건강, 주방용품, 보관/밀폐용기, 도시락통/찬합), (생활/건강, 주방용품, 식기, 볼), (생활/건강, 주방용품, 잔/컵, 머그), (생활/건강, 주방용품, 잔/컵, 유리컵), (식품, 건강식품, 꿀, ), (식품, 과자/베이커리, 젤리, ), (식품, 과자/베이커리, 초콜릿, ), (식품, 식용유/오일, 올리브유, ), (식품, 음료, 주스/과즙음료, 레몬주스), (식품, 음료, 차류, 기타차), (식품, 잼/시럽, 딸기잼, ), (식품, 조미료, 소금, ), (출산/육아, 유아동의류, 티셔츠, ), (출산/육아, 인형, 봉제인형, ), (패션의류, 여성언더웨어/잠옷, 잠옷/홈웨어, ), (패션의류, 여성의류, 블라우스/셔츠, ), (패션의류, 여성의류, 원피스, ), (패션의류, 여성의류, 티셔츠, ), (패션잡화, 모자, 야구모자, 일반캡), (패션잡화, 여성가방, 숄더백, ), (패션잡화, 여성가방, 크로스백, ), (패션잡화, 여성가방, 파우치, ), (패션잡화, 장갑, 여성장갑, ), (패션잡화, 지갑, 카드/명함지갑, ), (화장품/미용, 바디케어, 바디스크럽, ), (화장품/미용, 바디케어, 바디오일, ), (화장품/미용, 바디케어, 바디케어세트, ), (화장품/미용, 바디케어, 바디클렌저, ), (화장품/미용, 바디케어, 입욕제, ), (화장품/미용, 바디케어, 핸드케어, ), (화장품/미용, 색조메이크업, 립케어, ), (화장품/미용, 스킨케어, 미스트, ), (화장품/미용, 클렌징, 클렌징비누, ), (화장품/미용, 클렌징, 클렌징폼, ), (화장품/미용, 향수, 여성향수, ), (화장품/미용, 헤어케어, 헤어미스트, )]"
      ]
     },
     "execution_count": 28,
     "metadata": {},
     "output_type": "execute_result"
    }
   ],
   "source": [
    "categoryDF.groupby(list(categoryDF.columns)).count()"
   ]
  },
  {
   "cell_type": "markdown",
   "metadata": {},
   "source": [
    "➡️ 어차피 소분류 : 세분류 = 1:1인 경우가 많아 그냥 대/중/소분류 까지만 가져와도 무방할 듯"
   ]
  },
  {
   "cell_type": "code",
   "execution_count": null,
   "metadata": {},
   "outputs": [],
   "source": []
  }
 ],
 "metadata": {
  "kernelspec": {
   "display_name": "Python 3",
   "language": "python",
   "name": "python3"
  },
  "language_info": {
   "codemirror_mode": {
    "name": "ipython",
    "version": 3
   },
   "file_extension": ".py",
   "mimetype": "text/x-python",
   "name": "python",
   "nbconvert_exporter": "python",
   "pygments_lexer": "ipython3",
   "version": "3.11.3"
  }
 },
 "nbformat": 4,
 "nbformat_minor": 2
}
