{
 "cells": [
  {
   "cell_type": "markdown",
   "metadata": {},
   "source": [
    "# Youtube 컨텐츠 새로 불러오기"
   ]
  },
  {
   "cell_type": "code",
   "execution_count": 5,
   "metadata": {},
   "outputs": [],
   "source": [
    "from crawling_func.youtube_crawling import get_video_by_keys, get_product_urls\n",
    "from crawling_func.shopkko_crawling import get_kko_product_info, get_kko_product_reviews\n",
    "from crawling_func.shop29cm_crawling import get_29cm_product_info, get_29cm_product_reviews\n",
    "import pandas as pd\n",
    "from time import gmtime, strftime"
   ]
  },
  {
   "cell_type": "code",
   "execution_count": 2,
   "metadata": {},
   "outputs": [],
   "source": [
    "search_keywords = [\"#선물추천\", \"선물언박싱\", \"생일선물언박싱\", \"#카카오톡선물하기\", \n",
    "                   \"부모님 선물\", \"남자 선물\", \"여자 선물\"]\n"
   ]
  },
  {
   "cell_type": "code",
   "execution_count": 3,
   "metadata": {},
   "outputs": [
    {
     "name": "stdout",
     "output_type": "stream",
     "text": [
      "./YoutubeData/youtube_video_2024-07-07_15:58.csv \n",
      "총 180개의 영상이 수집되었습니다.\n"
     ]
    }
   ],
   "source": [
    "data = get_video_by_keys(search_keywords, 50)"
   ]
  },
  {
   "cell_type": "code",
   "execution_count": 3,
   "metadata": {},
   "outputs": [],
   "source": [
    "data = pd.read_csv(\"./YoutubeData/youtube_video_2024-07-07_15:58.csv\", index_col=0)\n"
   ]
  },
  {
   "cell_type": "code",
   "execution_count": 5,
   "metadata": {},
   "outputs": [
    {
     "name": "stdout",
     "output_type": "stream",
     "text": [
      "./YoutubeData/product_url_2024-07-07_16:48.csv \n",
      "총 141개의 제품 URL이 수집되었습니다.\n"
     ]
    }
   ],
   "source": [
    "get_product_urls(data)"
   ]
  },
  {
   "cell_type": "code",
   "execution_count": 2,
   "metadata": {},
   "outputs": [
    {
     "data": {
      "text/html": [
       "<div>\n",
       "<style scoped>\n",
       "    .dataframe tbody tr th:only-of-type {\n",
       "        vertical-align: middle;\n",
       "    }\n",
       "\n",
       "    .dataframe tbody tr th {\n",
       "        vertical-align: top;\n",
       "    }\n",
       "\n",
       "    .dataframe thead th {\n",
       "        text-align: right;\n",
       "    }\n",
       "</style>\n",
       "<table border=\"1\" class=\"dataframe\">\n",
       "  <thead>\n",
       "    <tr style=\"text-align: right;\">\n",
       "      <th></th>\n",
       "      <th>videoID</th>\n",
       "      <th>productURL</th>\n",
       "    </tr>\n",
       "  </thead>\n",
       "  <tbody>\n",
       "    <tr>\n",
       "      <th>0</th>\n",
       "      <td>cMcpE-3re8c</td>\n",
       "      <td>https://product.29cm.co.kr/catalog/874500</td>\n",
       "    </tr>\n",
       "    <tr>\n",
       "      <th>1</th>\n",
       "      <td>cMcpE-3re8c</td>\n",
       "      <td>https://product.29cm.co.kr/catalog/791401?sour...</td>\n",
       "    </tr>\n",
       "    <tr>\n",
       "      <th>2</th>\n",
       "      <td>cMcpE-3re8c</td>\n",
       "      <td>https://www.sivillage.com/goods/initDetailGood...</td>\n",
       "    </tr>\n",
       "    <tr>\n",
       "      <th>3</th>\n",
       "      <td>cMcpE-3re8c</td>\n",
       "      <td>https://www.lotteon.com/p/product/LE1204196371...</td>\n",
       "    </tr>\n",
       "    <tr>\n",
       "      <th>4</th>\n",
       "      <td>cMcpE-3re8c</td>\n",
       "      <td>https://www.hmall.com/pd/pda/itemPtc?ReferCode...</td>\n",
       "    </tr>\n",
       "    <tr>\n",
       "      <th>...</th>\n",
       "      <td>...</td>\n",
       "      <td>...</td>\n",
       "    </tr>\n",
       "    <tr>\n",
       "      <th>136</th>\n",
       "      <td>4vsC9nABHU8</td>\n",
       "      <td>https://product.29cm.co.kr/catalog/536616</td>\n",
       "    </tr>\n",
       "    <tr>\n",
       "      <th>137</th>\n",
       "      <td>4vsC9nABHU8</td>\n",
       "      <td>https://product.29cm.co.kr/catalog/552913</td>\n",
       "    </tr>\n",
       "    <tr>\n",
       "      <th>138</th>\n",
       "      <td>4vsC9nABHU8</td>\n",
       "      <td>https://product.29cm.co.kr/catalog/2252385</td>\n",
       "    </tr>\n",
       "    <tr>\n",
       "      <th>139</th>\n",
       "      <td>4vsC9nABHU8</td>\n",
       "      <td>https://gift.kakao.com/product/7737131</td>\n",
       "    </tr>\n",
       "    <tr>\n",
       "      <th>140</th>\n",
       "      <td>4vsC9nABHU8</td>\n",
       "      <td>https://www.sivillage.com/goods/initDetailGood...</td>\n",
       "    </tr>\n",
       "  </tbody>\n",
       "</table>\n",
       "<p>141 rows × 2 columns</p>\n",
       "</div>"
      ],
      "text/plain": [
       "         videoID                                         productURL\n",
       "0    cMcpE-3re8c          https://product.29cm.co.kr/catalog/874500\n",
       "1    cMcpE-3re8c  https://product.29cm.co.kr/catalog/791401?sour...\n",
       "2    cMcpE-3re8c  https://www.sivillage.com/goods/initDetailGood...\n",
       "3    cMcpE-3re8c  https://www.lotteon.com/p/product/LE1204196371...\n",
       "4    cMcpE-3re8c  https://www.hmall.com/pd/pda/itemPtc?ReferCode...\n",
       "..           ...                                                ...\n",
       "136  4vsC9nABHU8          https://product.29cm.co.kr/catalog/536616\n",
       "137  4vsC9nABHU8          https://product.29cm.co.kr/catalog/552913\n",
       "138  4vsC9nABHU8         https://product.29cm.co.kr/catalog/2252385\n",
       "139  4vsC9nABHU8             https://gift.kakao.com/product/7737131\n",
       "140  4vsC9nABHU8  https://www.sivillage.com/goods/initDetailGood...\n",
       "\n",
       "[141 rows x 2 columns]"
      ]
     },
     "execution_count": 2,
     "metadata": {},
     "output_type": "execute_result"
    }
   ],
   "source": [
    "products = pd.read_csv(\"./YoutubeData/product_url_2024-07-07_16:48.csv\", index_col=0)\n",
    "products"
   ]
  },
  {
   "cell_type": "code",
   "execution_count": 3,
   "metadata": {},
   "outputs": [],
   "source": [
    "products.drop_duplicates(subset=[\"productURL\"],inplace=True)\n",
    "products.reset_index(drop=True, inplace=True)"
   ]
  },
  {
   "cell_type": "code",
   "execution_count": 4,
   "metadata": {},
   "outputs": [
    {
     "data": {
      "text/plain": [
       "128"
      ]
     },
     "execution_count": 4,
     "metadata": {},
     "output_type": "execute_result"
    }
   ],
   "source": [
    "len(products)"
   ]
  },
  {
   "cell_type": "code",
   "execution_count": 5,
   "metadata": {},
   "outputs": [
    {
     "data": {
      "text/html": [
       "<div>\n",
       "<style scoped>\n",
       "    .dataframe tbody tr th:only-of-type {\n",
       "        vertical-align: middle;\n",
       "    }\n",
       "\n",
       "    .dataframe tbody tr th {\n",
       "        vertical-align: top;\n",
       "    }\n",
       "\n",
       "    .dataframe thead th {\n",
       "        text-align: right;\n",
       "    }\n",
       "</style>\n",
       "<table border=\"1\" class=\"dataframe\">\n",
       "  <thead>\n",
       "    <tr style=\"text-align: right;\">\n",
       "      <th></th>\n",
       "      <th>videoID</th>\n",
       "      <th>productURL</th>\n",
       "    </tr>\n",
       "  </thead>\n",
       "  <tbody>\n",
       "    <tr>\n",
       "      <th>0</th>\n",
       "      <td>cMcpE-3re8c</td>\n",
       "      <td>https://product.29cm.co.kr/catalog/874500</td>\n",
       "    </tr>\n",
       "    <tr>\n",
       "      <th>1</th>\n",
       "      <td>cMcpE-3re8c</td>\n",
       "      <td>https://product.29cm.co.kr/catalog/791401?sour...</td>\n",
       "    </tr>\n",
       "    <tr>\n",
       "      <th>2</th>\n",
       "      <td>cMcpE-3re8c</td>\n",
       "      <td>https://www.sivillage.com/goods/initDetailGood...</td>\n",
       "    </tr>\n",
       "    <tr>\n",
       "      <th>3</th>\n",
       "      <td>cMcpE-3re8c</td>\n",
       "      <td>https://www.lotteon.com/p/product/LE1204196371...</td>\n",
       "    </tr>\n",
       "    <tr>\n",
       "      <th>4</th>\n",
       "      <td>cMcpE-3re8c</td>\n",
       "      <td>https://www.hmall.com/pd/pda/itemPtc?ReferCode...</td>\n",
       "    </tr>\n",
       "    <tr>\n",
       "      <th>...</th>\n",
       "      <td>...</td>\n",
       "      <td>...</td>\n",
       "    </tr>\n",
       "    <tr>\n",
       "      <th>123</th>\n",
       "      <td>4vsC9nABHU8</td>\n",
       "      <td>https://www.thehandsome.com/ko/PM/productDetai...</td>\n",
       "    </tr>\n",
       "    <tr>\n",
       "      <th>124</th>\n",
       "      <td>4vsC9nABHU8</td>\n",
       "      <td>https://product.29cm.co.kr/catalog/536616</td>\n",
       "    </tr>\n",
       "    <tr>\n",
       "      <th>125</th>\n",
       "      <td>4vsC9nABHU8</td>\n",
       "      <td>https://product.29cm.co.kr/catalog/552913</td>\n",
       "    </tr>\n",
       "    <tr>\n",
       "      <th>126</th>\n",
       "      <td>4vsC9nABHU8</td>\n",
       "      <td>https://product.29cm.co.kr/catalog/2252385</td>\n",
       "    </tr>\n",
       "    <tr>\n",
       "      <th>127</th>\n",
       "      <td>4vsC9nABHU8</td>\n",
       "      <td>https://gift.kakao.com/product/7737131</td>\n",
       "    </tr>\n",
       "  </tbody>\n",
       "</table>\n",
       "<p>128 rows × 2 columns</p>\n",
       "</div>"
      ],
      "text/plain": [
       "         videoID                                         productURL\n",
       "0    cMcpE-3re8c          https://product.29cm.co.kr/catalog/874500\n",
       "1    cMcpE-3re8c  https://product.29cm.co.kr/catalog/791401?sour...\n",
       "2    cMcpE-3re8c  https://www.sivillage.com/goods/initDetailGood...\n",
       "3    cMcpE-3re8c  https://www.lotteon.com/p/product/LE1204196371...\n",
       "4    cMcpE-3re8c  https://www.hmall.com/pd/pda/itemPtc?ReferCode...\n",
       "..           ...                                                ...\n",
       "123  4vsC9nABHU8  https://www.thehandsome.com/ko/PM/productDetai...\n",
       "124  4vsC9nABHU8          https://product.29cm.co.kr/catalog/536616\n",
       "125  4vsC9nABHU8          https://product.29cm.co.kr/catalog/552913\n",
       "126  4vsC9nABHU8         https://product.29cm.co.kr/catalog/2252385\n",
       "127  4vsC9nABHU8             https://gift.kakao.com/product/7737131\n",
       "\n",
       "[128 rows x 2 columns]"
      ]
     },
     "execution_count": 5,
     "metadata": {},
     "output_type": "execute_result"
    }
   ],
   "source": [
    "products"
   ]
  },
  {
   "cell_type": "code",
   "execution_count": 6,
   "metadata": {},
   "outputs": [],
   "source": [
    "product_shoppingmall = []\n",
    "for url in products['productURL']:\n",
    "    if '29cm' in url : product_shoppingmall.append('29cm')\n",
    "    elif any(shop in url for shop in ['gift.kakao', 'kko.to']): product_shoppingmall.append('카카오 선물하기')\n",
    "    elif 'coupang' in url: product_shoppingmall.append('쿠팡')\n",
    "    elif 'wconcept' in url: product_shoppingmall.append('wconcept')\n",
    "    elif 'smartstore' in url: product_shoppingmall.append('네이버')\n",
    "    elif any(shop in url for shop in ['sivillage', 'lotteon', 'hmall']): product_shoppingmall.append('백화점/홈쇼핑 몰')\n",
    "    elif 'oliveyoung' in url: product_shoppingmall.append('올리브영')\n",
    "    elif any(shop in url for shop in ['eqlstore', 'collecionb', 'ohou.se']): product_shoppingmall.append('인테리어/오브제 몰')\n",
    "    elif 'kurly' in url: product_shoppingmall.append('마켓컬리')\n",
    "    elif 'wconcept' in url: product_shoppingmall.append('29cm')\n",
    "    elif 'makers.kakao' in url: product_shoppingmall.append('')\n",
    "    else: product_shoppingmall.append('브랜드 공식 홈페이지')\n",
    "\n",
    "products['shoppingmall'] = product_shoppingmall"
   ]
  },
  {
   "cell_type": "code",
   "execution_count": 7,
   "metadata": {},
   "outputs": [
    {
     "data": {
      "text/html": [
       "<div>\n",
       "<style scoped>\n",
       "    .dataframe tbody tr th:only-of-type {\n",
       "        vertical-align: middle;\n",
       "    }\n",
       "\n",
       "    .dataframe tbody tr th {\n",
       "        vertical-align: top;\n",
       "    }\n",
       "\n",
       "    .dataframe thead th {\n",
       "        text-align: right;\n",
       "    }\n",
       "</style>\n",
       "<table border=\"1\" class=\"dataframe\">\n",
       "  <thead>\n",
       "    <tr style=\"text-align: right;\">\n",
       "      <th></th>\n",
       "      <th>videoID</th>\n",
       "      <th>productURL</th>\n",
       "      <th>shoppingmall</th>\n",
       "    </tr>\n",
       "  </thead>\n",
       "  <tbody>\n",
       "    <tr>\n",
       "      <th>0</th>\n",
       "      <td>cMcpE-3re8c</td>\n",
       "      <td>https://product.29cm.co.kr/catalog/874500</td>\n",
       "      <td>29cm</td>\n",
       "    </tr>\n",
       "    <tr>\n",
       "      <th>1</th>\n",
       "      <td>cMcpE-3re8c</td>\n",
       "      <td>https://product.29cm.co.kr/catalog/791401?sour...</td>\n",
       "      <td>29cm</td>\n",
       "    </tr>\n",
       "    <tr>\n",
       "      <th>2</th>\n",
       "      <td>cMcpE-3re8c</td>\n",
       "      <td>https://www.sivillage.com/goods/initDetailGood...</td>\n",
       "      <td>백화점/홈쇼핑 몰</td>\n",
       "    </tr>\n",
       "    <tr>\n",
       "      <th>3</th>\n",
       "      <td>cMcpE-3re8c</td>\n",
       "      <td>https://www.lotteon.com/p/product/LE1204196371...</td>\n",
       "      <td>백화점/홈쇼핑 몰</td>\n",
       "    </tr>\n",
       "    <tr>\n",
       "      <th>4</th>\n",
       "      <td>cMcpE-3re8c</td>\n",
       "      <td>https://www.hmall.com/pd/pda/itemPtc?ReferCode...</td>\n",
       "      <td>백화점/홈쇼핑 몰</td>\n",
       "    </tr>\n",
       "    <tr>\n",
       "      <th>...</th>\n",
       "      <td>...</td>\n",
       "      <td>...</td>\n",
       "      <td>...</td>\n",
       "    </tr>\n",
       "    <tr>\n",
       "      <th>123</th>\n",
       "      <td>4vsC9nABHU8</td>\n",
       "      <td>https://www.thehandsome.com/ko/PM/productDetai...</td>\n",
       "      <td>브랜드 공식 홈페이지</td>\n",
       "    </tr>\n",
       "    <tr>\n",
       "      <th>124</th>\n",
       "      <td>4vsC9nABHU8</td>\n",
       "      <td>https://product.29cm.co.kr/catalog/536616</td>\n",
       "      <td>29cm</td>\n",
       "    </tr>\n",
       "    <tr>\n",
       "      <th>125</th>\n",
       "      <td>4vsC9nABHU8</td>\n",
       "      <td>https://product.29cm.co.kr/catalog/552913</td>\n",
       "      <td>29cm</td>\n",
       "    </tr>\n",
       "    <tr>\n",
       "      <th>126</th>\n",
       "      <td>4vsC9nABHU8</td>\n",
       "      <td>https://product.29cm.co.kr/catalog/2252385</td>\n",
       "      <td>29cm</td>\n",
       "    </tr>\n",
       "    <tr>\n",
       "      <th>127</th>\n",
       "      <td>4vsC9nABHU8</td>\n",
       "      <td>https://gift.kakao.com/product/7737131</td>\n",
       "      <td>카카오 선물하기</td>\n",
       "    </tr>\n",
       "  </tbody>\n",
       "</table>\n",
       "<p>128 rows × 3 columns</p>\n",
       "</div>"
      ],
      "text/plain": [
       "         videoID                                         productURL  \\\n",
       "0    cMcpE-3re8c          https://product.29cm.co.kr/catalog/874500   \n",
       "1    cMcpE-3re8c  https://product.29cm.co.kr/catalog/791401?sour...   \n",
       "2    cMcpE-3re8c  https://www.sivillage.com/goods/initDetailGood...   \n",
       "3    cMcpE-3re8c  https://www.lotteon.com/p/product/LE1204196371...   \n",
       "4    cMcpE-3re8c  https://www.hmall.com/pd/pda/itemPtc?ReferCode...   \n",
       "..           ...                                                ...   \n",
       "123  4vsC9nABHU8  https://www.thehandsome.com/ko/PM/productDetai...   \n",
       "124  4vsC9nABHU8          https://product.29cm.co.kr/catalog/536616   \n",
       "125  4vsC9nABHU8          https://product.29cm.co.kr/catalog/552913   \n",
       "126  4vsC9nABHU8         https://product.29cm.co.kr/catalog/2252385   \n",
       "127  4vsC9nABHU8             https://gift.kakao.com/product/7737131   \n",
       "\n",
       "    shoppingmall  \n",
       "0           29cm  \n",
       "1           29cm  \n",
       "2      백화점/홈쇼핑 몰  \n",
       "3      백화점/홈쇼핑 몰  \n",
       "4      백화점/홈쇼핑 몰  \n",
       "..           ...  \n",
       "123  브랜드 공식 홈페이지  \n",
       "124         29cm  \n",
       "125         29cm  \n",
       "126         29cm  \n",
       "127     카카오 선물하기  \n",
       "\n",
       "[128 rows x 3 columns]"
      ]
     },
     "execution_count": 7,
     "metadata": {},
     "output_type": "execute_result"
    }
   ],
   "source": [
    "products"
   ]
  },
  {
   "cell_type": "code",
   "execution_count": 2,
   "metadata": {},
   "outputs": [
    {
     "ename": "NameError",
     "evalue": "name 'products' is not defined",
     "output_type": "error",
     "traceback": [
      "\u001b[0;31m---------------------------------------------------------------------------\u001b[0m",
      "\u001b[0;31mNameError\u001b[0m                                 Traceback (most recent call last)",
      "Cell \u001b[0;32mIn[2], line 1\u001b[0m\n\u001b[0;32m----> 1\u001b[0m \u001b[43mproducts\u001b[49m[\u001b[38;5;124m'\u001b[39m\u001b[38;5;124mshoppingmall\u001b[39m\u001b[38;5;124m'\u001b[39m]\u001b[38;5;241m.\u001b[39mvalue_counts()\n",
      "\u001b[0;31mNameError\u001b[0m: name 'products' is not defined"
     ]
    }
   ],
   "source": [
    "products['shoppingmall'].value_counts()"
   ]
  },
  {
   "cell_type": "code",
   "execution_count": 3,
   "metadata": {},
   "outputs": [],
   "source": [
    "video_id = []\n",
    "url = []\n",
    "product_info = []\n",
    "for idx, url in enumerate(products[\"productURL\"][:3]):\n",
    "    if products[\"shoppingmall\"][idx] == \"카카오 선물하기\":\n",
    "        try: \n",
    "            temp_info =  get_kko_product_info(url)\n",
    "            product_info.append(temp_info)\n",
    "            url.append(url)\n",
    "            video_id.append(products[\"videoID\"][idx])\n",
    "        except:\n",
    "            print(f\"excepted : {idx}\")\n",
    "            product_info.append(None)\n",
    "            url.append(url)\n",
    "            video_id.append(products[\"videoID\"][idx])\n",
    "    elif products[\"shoppingmall\"][idx] == \"29cm\":\n",
    "        try: \n",
    "            temp_info =  get_29cm_product_info(url)\n",
    "            product_info.append(temp_info)\n",
    "            url.append(url)\n",
    "            video_id.append(products[\"videoID\"][idx])\n",
    "        except:\n",
    "            print(f\"excepted : {idx}\")\n",
    "            product_info.append(None)\n",
    "            url.append(url)\n",
    "            video_id.append(products[\"videoID\"][idx])"
   ]
  },
  {
   "cell_type": "code",
   "execution_count": 4,
   "metadata": {},
   "outputs": [
    {
     "data": {
      "text/html": [
       "<div>\n",
       "<style scoped>\n",
       "    .dataframe tbody tr th:only-of-type {\n",
       "        vertical-align: middle;\n",
       "    }\n",
       "\n",
       "    .dataframe tbody tr th {\n",
       "        vertical-align: top;\n",
       "    }\n",
       "\n",
       "    .dataframe thead th {\n",
       "        text-align: right;\n",
       "    }\n",
       "</style>\n",
       "<table border=\"1\" class=\"dataframe\">\n",
       "  <thead>\n",
       "    <tr style=\"text-align: right;\">\n",
       "      <th></th>\n",
       "      <th>videoID</th>\n",
       "      <th>productURL</th>\n",
       "      <th>productInfo</th>\n",
       "    </tr>\n",
       "  </thead>\n",
       "  <tbody>\n",
       "  </tbody>\n",
       "</table>\n",
       "</div>"
      ],
      "text/plain": [
       "Empty DataFrame\n",
       "Columns: [videoID, productURL, productInfo]\n",
       "Index: []"
      ]
     },
     "execution_count": 4,
     "metadata": {},
     "output_type": "execute_result"
    }
   ],
   "source": [
    "new_df = pd.DataFrame({\"videoID\":video_id, \"productURL\":url,\"productInfo\":product_info})\n",
    "path = \"./producInfo/product\"+ strftime(\"%Y-%m-%d_%H:%M\", gmtime()) + \".csv\"\n",
    "new_df.to_csv(path)"
   ]
  }
 ],
 "metadata": {
  "kernelspec": {
   "display_name": "Python 3",
   "language": "python",
   "name": "python3"
  },
  "language_info": {
   "codemirror_mode": {
    "name": "ipython",
    "version": 3
   },
   "file_extension": ".py",
   "mimetype": "text/x-python",
   "name": "python",
   "nbconvert_exporter": "python",
   "pygments_lexer": "ipython3",
   "version": "3.11.3"
  }
 },
 "nbformat": 4,
 "nbformat_minor": 2
}
